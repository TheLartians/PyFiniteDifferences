{
 "metadata": {
  "kernelspec": {
   "display_name": "Python 2",
   "language": "python",
   "name": "python2"
  },
  "language_info": {
   "codemirror_mode": {
    "name": "ipython",
    "version": 2
   },
   "file_extension": ".py",
   "mimetype": "text/x-python",
   "name": "python",
   "nbconvert_exporter": "python",
   "pygments_lexer": "ipython2",
   "version": "2.7.8"
  },
  "name": "",
  "signature": "sha256:a68b399ed8b52b6f474a6526213f5b2702f6aabb50b18881ba22d85a252a5216"
 },
 "nbformat": 3,
 "nbformat_minor": 0,
 "worksheets": [
  {
   "cells": [
    {
     "cell_type": "heading",
     "level": 1,
     "metadata": {},
     "source": [
      "PyFiniteDifferences - Analytical solution"
     ]
    },
    {
     "cell_type": "markdown",
     "metadata": {},
     "source": [
      "We verify the Finite Difference calculations by comparing the results with the analytical solutions for weakly guiding fibres. First we will setup a Finite Difference simulation as usual, then calculate the analytic solution and compare the results."
     ]
    },
    {
     "cell_type": "markdown",
     "metadata": {},
     "source": [
      "##Imports\n",
      "We import necessary libraries. Note that we import sympy and the finite difference symbols into the local namespace."
     ]
    },
    {
     "cell_type": "code",
     "collapsed": false,
     "input": [
      "from sympy import *\n",
      "from pyfinitedifferences.symbols import *\n",
      "from pyfinitedifferences import finitedifferences\n",
      "import numpy as np\n",
      "import IPython.display as display\n",
      "import matplotlib.pyplot as plt\n",
      "%matplotlib inline\n",
      "init_printing(use_latex='mathjax')"
     ],
     "language": "python",
     "metadata": {},
     "outputs": [],
     "prompt_number": 1
    },
    {
     "cell_type": "markdown",
     "metadata": {},
     "source": [
      "##Units\n",
      "This will allow us to use Units in simulation parameters. Units are imported into the namespace *u*."
     ]
    },
    {
     "cell_type": "code",
     "collapsed": false,
     "input": [
      "import sympy.physics.units as u\n",
      "u.keV = 1000 * u.eV"
     ],
     "language": "python",
     "metadata": {},
     "outputs": [],
     "prompt_number": 2
    },
    {
     "cell_type": "markdown",
     "metadata": {},
     "source": [
      "##Symbols\n",
      "Necessary symbols for constants and variables are defined here for later use."
     ]
    },
    {
     "cell_type": "code",
     "collapsed": false,
     "input": [
      "n_B  = Symbol(\"n_\\mathrm{B}\") \n",
      "n_Ge = Symbol(\"n_\\mathrm{Ge}\") \n",
      "n_Va = Symbol(\"n_\\mathrm{Va}\")\n",
      "\n",
      "E    = Symbol(\"E\",real=True,positive=True)\n",
      "hbar = Symbol(r\"\\hslash\",real=True)\n",
      "c    = Symbol(\"c\",real=True)\n",
      "\n",
      "r_waveguide  = Symbol(\"r_\\mathrm{Waveguide}\",real=True,positive=True)\n",
      "n_inside     = Symbol(\"n_\\mathrm{Inside}\",complex=True)\n",
      "n_outside    = Symbol(\"n_\\mathrm{Outside}\",complex=True)\n",
      "p_absorption = Symbol(\"p_\\mathrm{Absorption}\",real=True,positive=True)\n",
      "n_absorption = Symbol(\"n_\\mathrm{Absorption}\",complex=True)"
     ],
     "language": "python",
     "metadata": {},
     "outputs": [],
     "prompt_number": 3
    },
    {
     "cell_type": "markdown",
     "metadata": {},
     "source": [
      "##Settings\n",
      "The simulation parameters are stored in this object."
     ]
    },
    {
     "cell_type": "code",
     "collapsed": false,
     "input": [
      "settings = finitedifferences.Settings()"
     ],
     "language": "python",
     "metadata": {},
     "outputs": [],
     "prompt_number": 4
    },
    {
     "cell_type": "markdown",
     "metadata": {},
     "source": [
      "##Solve the parabolic wave equation\n",
      "We will use the [Crank\u2013Nicolson method](http://en.wikipedia.org/wiki/Crank\u2013Nicolson_method) to numerically solve the parabolic wave equation:\n",
      "\n",
      "$$\n",
      "\\frac{\\partial u}{\\partial z} = A \\left(\\frac{\\partial^2 u}{\\partial x^2}+\\frac{\\partial^2 u}{\\partial y^2} \\right) + F(x,y,z) u, \n",
      "$$\n",
      "\n",
      "with $F(x,y,z)$ and $A$ defined as below."
     ]
    },
    {
     "cell_type": "code",
     "collapsed": false,
     "input": [
      "settings[F] = -I*k/2*(n**2-1);\n",
      "settings[A] = -I/(2*k);        \n",
      "\n",
      "display.display(Eq(F,settings[F]))\n",
      "display.display(Eq(A,settings[A]))"
     ],
     "language": "python",
     "metadata": {
      "scrolled": false
     },
     "outputs": [
      {
       "latex": [
        "$$F{\\left (x,y,z \\right )} = - \\frac{i k}{2} \\left(n^{2}{\\left (x,y,z \\right )} - 1\\right)$$"
       ],
       "metadata": {},
       "output_type": "display_data",
       "text": [
        "                  \u239b 2             \u239e \n",
        "             -i\u22c5k\u22c5\u239dn (x, y, z) - 1\u23a0 \n",
        "F(x, y, z) = \u2500\u2500\u2500\u2500\u2500\u2500\u2500\u2500\u2500\u2500\u2500\u2500\u2500\u2500\u2500\u2500\u2500\u2500\u2500\u2500\u2500\u2500\u2500\n",
        "                        2           "
       ]
      },
      {
       "latex": [
        "$$A = - \\frac{i}{2 k}$$"
       ],
       "metadata": {},
       "output_type": "display_data",
       "text": [
        "    -i \n",
        "A = \u2500\u2500\u2500\n",
        "    2\u22c5k"
       ]
      }
     ],
     "prompt_number": 5
    },
    {
     "cell_type": "markdown",
     "metadata": {},
     "source": [
      "##Wave number\n",
      "We will define the the wavenumber $k$ through the wave energy and set the numeric values for $\\hbar$ and $c$."
     ]
    },
    {
     "cell_type": "code",
     "collapsed": false,
     "input": [
      "settings.numeric_values[hbar] = u.hbar\n",
      "settings.numeric_values[c]    = u.c\n",
      "settings[k] = E / (hbar*c)\n",
      "display.display(Eq(k,settings[k]))"
     ],
     "language": "python",
     "metadata": {},
     "outputs": [
      {
       "latex": [
        "$$k = \\frac{E}{\\hslash c}$$"
       ],
       "metadata": {},
       "output_type": "display_data",
       "text": [
        "        E    \n",
        "k = \u2500\u2500\u2500\u2500\u2500\u2500\u2500\u2500\u2500\n",
        "    \\hslash\u22c5c"
       ]
      }
     ],
     "prompt_number": 6
    },
    {
     "cell_type": "markdown",
     "metadata": {},
     "source": [
      "##Simulation box\n",
      "The simulation box is defined using $n_x \\cdot n_y \\cdot n_z$ voxels in $x$, $y$ and $z$ direction (propagation direction is $z$)."
     ]
    },
    {
     "cell_type": "code",
     "collapsed": false,
     "input": [
      "settings.numeric_values.update({\n",
      "        nx:600,\n",
      "        ny:600,\n",
      "        nz:2000,\n",
      "        \n",
      "        sx:0.3*u.um,\n",
      "        sy:0.3*u.um,\n",
      "        sz:1200*u.um\n",
      "})"
     ],
     "language": "python",
     "metadata": {},
     "outputs": [],
     "prompt_number": 7
    },
    {
     "cell_type": "markdown",
     "metadata": {},
     "source": [
      "Here we set the unit symbol (for use in in plots) and natural length scale (unit in the numerical simulation) of our simulation by substituting the basic length unit `u.m`. For high numeric precision this should be close to the step size."
     ]
    },
    {
     "cell_type": "code",
     "collapsed": false,
     "input": [
      "settings.length_unit = 'um'\n",
      "settings.numeric_values[u.m] = u.m/u.um"
     ],
     "language": "python",
     "metadata": {},
     "outputs": [],
     "prompt_number": 8
    },
    {
     "cell_type": "markdown",
     "metadata": {},
     "source": [
      "##Numeric values\n",
      "Numeric values for the simulation are set."
     ]
    },
    {
     "cell_type": "code",
     "collapsed": false,
     "input": [
      "settings.numeric_values.update({\n",
      "    n_Ge: 1-6.006E-06-6.32E-07*I,\n",
      "    n_Va: 1,\n",
      "    \n",
      "    r_waveguide: 40*u.nm,\n",
      "    \n",
      "    n_inside:  n_Va,\n",
      "    n_outside: n_Ge,\n",
      "    \n",
      "    p_absorption: 0.2,\n",
      "    n_absorption: 1 - I * 10**-4,\n",
      "    \n",
      "    E: 12.5*u.keV,\n",
      "})"
     ],
     "language": "python",
     "metadata": {},
     "outputs": [],
     "prompt_number": 9
    },
    {
     "cell_type": "markdown",
     "metadata": {},
     "source": [
      "##Refractive index\n",
      "We define the refractive index $n(x,y,z)$ for a circular waveguide with radius $r_\\mathrm{Waveguide}$."
     ]
    },
    {
     "cell_type": "code",
     "collapsed": false,
     "input": [
      "inside_waveguide = (((x)**2+y**2)<=r_waveguide**2)\n",
      "n_waveguide = Piecewise((n_inside,inside_waveguide),(n_outside,True))\n",
      "settings[n] = n_waveguide\n",
      "display.display(Eq(n,settings.get(n)))"
     ],
     "language": "python",
     "metadata": {},
     "outputs": [
      {
       "latex": [
        "$$n{\\left (x,y,z \\right )} = \\begin{cases} n_\\mathrm{Inside} & \\text{for}\\: x^{2} + y^{2} \\leq r_\\mathrm{Waveguide}^{2} \\\\n_\\mathrm{Outside} & \\text{otherwise} \\end{cases}$$"
       ],
       "metadata": {},
       "output_type": "display_data",
       "text": [
        "             \u23a7                         2    2                       2\n",
        "             \u23aan_\\mathrm{Inside}   for x  + y  \u2264 r_\\mathrm{Waveguide} \n",
        "n(x, y, z) = \u23a8                                                       \n",
        "             \u23aan_\\mathrm{Outside}               otherwise             \n",
        "             \u23a9                                                       "
       ]
      }
     ],
     "prompt_number": 10
    },
    {
     "cell_type": "markdown",
     "metadata": {},
     "source": [
      "##Plot\n",
      "To verify our parameters, we plot two slices of the simulation box."
     ]
    },
    {
     "cell_type": "code",
     "collapsed": false,
     "input": [
      "plt.figure(figsize=(12,4))\n",
      "plt.subplot(121)\n",
      "finitedifferences.plot_front(abs(n),settings,show=False)\n",
      "plt.subplot(122)\n",
      "finitedifferences.plot_side(abs(n),settings )"
     ],
     "language": "python",
     "metadata": {},
     "outputs": [
      {
       "metadata": {},
       "output_type": "display_data",
       "png": "[encoded data removed]",
       "text": [
        "<matplotlib.figure.Figure at 0x7f5240cf7150>"
       ]
      }
     ],
     "prompt_number": 11
    },
    {
     "cell_type": "markdown",
     "metadata": {},
     "source": [
      "##Boundary conditions\n",
      "Now boundary conditions are defined. $u_0$ is the field at $z=z_0$, while $u_{0\\mathrm{Boundary}}$ is the field at the simulation box edges."
     ]
    },
    {
     "cell_type": "code",
     "collapsed": false,
     "input": [
      "settings[u0] = Number(1)\n",
      "settings[u0_boundary] = u0 * exp(-I*k*(n_outside-1)*z)\n",
      "display.display(Eq(u0,settings[u0]))\n",
      "display.display(Eq(u0_boundary,settings[u0_boundary]))"
     ],
     "language": "python",
     "metadata": {},
     "outputs": [
      {
       "latex": [
        "$$\\operatorname{u_{0}}{\\left (x,y \\right )} = 1$$"
       ],
       "metadata": {},
       "output_type": "display_data",
       "text": [
        "u\u2080(x, y) = 1"
       ]
      },
      {
       "latex": [
        "$$\\operatorname{u_{0 \\mathrm{Boundary}}}{\\left (x,y,z \\right )} = \\operatorname{u_{0}}{\\left (x,y \\right )} e^{- i k z \\left(n_\\mathrm{Outside} - 1\\right)}$$"
       ],
       "metadata": {},
       "output_type": "display_data",
       "text": [
        "                                           -i\u22c5k\u22c5z\u22c5(n_\\mathrm{Outside} - 1)\n",
        "u_0_\\mathrm{Boundary}(x, y, z) = u\u2080(x, y)\u22c5\u212f                               "
       ]
      }
     ],
     "prompt_number": 12
    },
    {
     "cell_type": "markdown",
     "metadata": {},
     "source": [
      "##Finite difference 2D\n",
      "Create the solver using the settings and run a 2D simulation. Here we call Solver2D.run_slice() which will return a 2D slice of the 3 dimensional simulation for $y=0$. We plot the intensity of the slice."
     ]
    },
    {
     "cell_type": "code",
     "collapsed": false,
     "input": [
      "solver = finitedifferences.Solver2D(settings)\n",
      "fd_data = solver.run_slice()\n",
      "finitedifferences.plot_side(np.abs(fd_data)**2,settings,size=(10,5))"
     ],
     "language": "python",
     "metadata": {
      "scrolled": false
     },
     "outputs": [
      {
       "metadata": {},
       "output_type": "display_data",
       "text": [
        "'running: 16% completed'"
       ]
      }
     ]
    },
    {
     "cell_type": "heading",
     "level": 2,
     "metadata": {},
     "source": [
      "Analytical solution"
     ]
    },
    {
     "cell_type": "markdown",
     "metadata": {},
     "source": [
      "We implement an algorithm to determine the analytical solution for the weakly-guiding fibre (see dissertation of Christian Fuhse for mathematical details)."
     ]
    },
    {
     "cell_type": "code",
     "collapsed": false,
     "input": [
      "def analytical(settings):\n",
      "    import scipy.optimize\n",
      "    import scipy.integrate\n",
      "    from scipy.special import j0,j1,k0,k1\n",
      "    from numpy import sqrt,ceil,pi,sign,cos,sin,exp,sum,abs\n",
      "    import warnings\n",
      "\n",
      "    kn = settings.get(k,type=float)\n",
      "    n1 = settings.get(n_inside,type=complex)\n",
      "    n2 = settings.get(n_outside,type=complex)\n",
      "    a  = settings.get(r_waveguide,type=float)\n",
      "    sxn = settings.get(sx,float)\n",
      "    szn = settings.get(sz,float)\n",
      "    dzn = settings.get(dz,float)\n",
      "\n",
      "    # We will determine um for all guided modes as the roots of the characteristic equation:\n",
      "    def char(um):\n",
      "        wm = sqrt(V**2-um**2)\n",
      "        return um*j1(um)/j0(um) - wm*k1(wm)/k0(wm)\n",
      "    \n",
      "    # Dimensionless waveguide paramter\n",
      "    V = kn*a*np.sqrt(n1.real**2 - n2.real**2)\n",
      "    \n",
      "    # V determines the number of guided modes\n",
      "    N = ceil(V/pi)\n",
      "    \n",
      "    # Now find all N roots of the characteristic equation\n",
      "    u_values = []\n",
      "    segments = N\n",
      "    \n",
      "    # Silence division warnings which might occur since we will search for sign changes in arbitrary intervals\n",
      "    warnings.filterwarnings('ignore')\n",
      " \n",
      "    while len(u_values) < N:\n",
      "        segments = segments*2\n",
      "        u_values = []\n",
      "        for interval in [(xi,xi+V/segments) for xi in np.linspace(0,V*(1-1./segments),segments)]:\n",
      "            va,vb = char(np.array(interval))\n",
      "            # Check if values for interval boundaries are finite and have opposite sign\n",
      "            if np.isfinite(va) and np.isfinite(vb) and sign(va) != sign(vb):\n",
      "                # There might be a root in the interval. Find it using Brent's method!\n",
      "                um,r = scipy.optimize.brentq(char,interval[0],interval[1],full_output=True)\n",
      "                # Check that point converged and value is small (we might have found a pole instead)\n",
      "                if r.converged and abs(char(um))<1:\n",
      "                    u_values.append(um)\n",
      "    u_values = np.array(u_values)\n",
      "    \n",
      "    # Reactivate warnings\n",
      "    warnings.resetwarnings()\n",
      "    \n",
      "    # Define the guided modes\n",
      "    def psi(um,r):\n",
      "        wm = sqrt(V**2-um**2)\n",
      "        return np.piecewise(r,[r<a,r>=a],[lambda r:j0(um*r/a)/j0(um),lambda r:k0(wm*r/a)/k0(wm)])\n",
      "   \n",
      "    # Normalize the modes by integrating the intensity of the guided modes over R^2\n",
      "    B_values = [(2*pi*scipy.integrate.quad(lambda r:abs(psi(um,r))**2*r,0,np.inf)[0])**(-0.5) for um in u_values]\n",
      "    \n",
      "    # Project the modes onto the plain wave initial condition\n",
      "    c_values = [2*pi*scipy.integrate.quad(lambda r:psi(um,r)*B*1*r,0,np.inf)[0] for um,B in zip(u_values,B_values)]\n",
      "    \n",
      "    # Determine propagation constants\n",
      "    def mu(r):\n",
      "        if r<a: return -kn*2*n1.imag\n",
      "        else: return -kn*2*n2.imag\n",
      "    \n",
      "    # Integrate mu in two parts to aviod discontinuity\n",
      "    mu_values = np.array([\n",
      "            2*pi*scipy.integrate.quad(lambda r:abs(psi(um,r)*B)**2*mu(r)*r,0,a)[0] +\n",
      "            2*pi*scipy.integrate.quad(lambda r:abs(psi(um,r)*B)**2*mu(r)*r,a,np.inf)[0]\n",
      "                         for um,B in zip(u_values,B_values)])\n",
      "        \n",
      "    beta_values = sqrt(n1.real**2*kn**2-u_values**2/a**2)\n",
      "    \n",
      "    # The full solution is the superposition of the guided modes\n",
      "    def field(x,r):\n",
      "        solution = None\n",
      "        for i in range(len(u_values)):\n",
      "            mode = c_values[i] * psi(u_values[i],np.abs(r)) * B_values[i] * exp( (-1j*beta_values[i]-mu_values[i]/2) * x)\n",
      "            if solution is None: solution = mode\n",
      "            else: solution += mode\n",
      "        return solution\n",
      "    \n",
      "    x_values = np.linspace(0,szn,settings.get(nz+1,float))\n",
      "    r_values = np.linspace(-sxn/2,sxn/2,settings.get(nx,float))\n",
      "\n",
      "    data = field(*np.meshgrid(x_values,r_values)) # /exp(-1j*kn*x_values) # so phases match with finite differences\n",
      "    \n",
      "    return data"
     ],
     "language": "python",
     "metadata": {},
     "outputs": []
    },
    {
     "cell_type": "markdown",
     "metadata": {},
     "source": [
      "The analytical solution is a slice through $y=0$. We compare the analytical (upper half) with the finite differences (lower half) solution."
     ]
    },
    {
     "cell_type": "code",
     "collapsed": false,
     "input": [
      "analytical_data = analytical(settings)\n",
      "split_data = np.append(analytical_data[:settings.get(nx/2,int)],fd_data[settings.get(nx/2,int):,:],axis=0)\n",
      "\n",
      "plt.figure(figsize=(15,7))\n",
      "plt.plot([0,settings.get(sz,float)],[settings.get(dx,float),settings.get(dx,float)],'w--')\n",
      "text_settings={'color':'w','ha':'center','va':'center','size':14}\n",
      "plt.text(settings.get(sz/2,float),settings.get(sx*3/10,float),\"Analytical solution\",text_settings)\n",
      "plt.text(settings.get(sz/2,float),settings.get(-sx*3/10,float),\"Finite differences\",text_settings)\n",
      "finitedifferences.plot_side(np.abs(split_data)**2,settings)"
     ],
     "language": "python",
     "metadata": {
      "scrolled": false
     },
     "outputs": []
    },
    {
     "cell_type": "markdown",
     "metadata": {},
     "source": [
      "We plot the absolute difference in intensity of the two solutions."
     ]
    },
    {
     "cell_type": "code",
     "collapsed": false,
     "input": [
      "finitedifferences.plot_side(np.abs( np.abs(fd_data)**2 - np.abs(analytical_data)**2 ) ,settings,size=(15,7))"
     ],
     "language": "python",
     "metadata": {},
     "outputs": []
    },
    {
     "cell_type": "heading",
     "level": 2,
     "metadata": {
      "collapsed": true
     },
     "source": [
      "Conclusion"
     ]
    },
    {
     "cell_type": "markdown",
     "metadata": {},
     "source": [
      "We find that, far away from the entrance, the two solutions are nearly indentical. From the dissertation of Christian Fuhse:\n",
      "> Near the entrance, the finite-difference calculations also show how the over-illuminated radiation impinging on the cladding is absorbed. These contributions correspond to radiative modes ignored in the weakly-guiding fibre approximation. Therefore, these features cannot be observed in the field calculated by analytical theory."
     ]
    },
    {
     "cell_type": "code",
     "collapsed": true,
     "input": [],
     "language": "python",
     "metadata": {},
     "outputs": [],
     "prompt_number": null
    },
    {
     "cell_type": "code",
     "collapsed": true,
     "input": [],
     "language": "python",
     "metadata": {},
     "outputs": [],
     "prompt_number": null
    }
   ],
   "metadata": {}
  }
 ]
}